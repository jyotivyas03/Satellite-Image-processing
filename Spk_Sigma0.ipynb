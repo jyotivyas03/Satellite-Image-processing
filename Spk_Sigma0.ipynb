{
 "cells": [
  {
   "cell_type": "code",
   "execution_count": 3,
   "id": "5074f906-93a2-4738-86aa-ebf17f2fcfea",
   "metadata": {},
   "outputs": [
    {
     "name": "stdout",
     "output_type": "stream",
     "text": [
      "[[[  1   1   1]\n",
      "  [  1   1   1]\n",
      "  [  1   1   1]\n",
      "  ...\n",
      "  [  1   1   1]\n",
      "  [  1   1   1]\n",
      "  [  1   1   1]]\n",
      "\n",
      " [[  1   1   1]\n",
      "  [  1   1   1]\n",
      "  [  1   1   1]\n",
      "  ...\n",
      "  [  1   1   1]\n",
      "  [  1   1   1]\n",
      "  [  1   1   1]]\n",
      "\n",
      " [[  1   1   1]\n",
      "  [  1   1   1]\n",
      "  [  1   1   1]\n",
      "  ...\n",
      "  [  1   1   1]\n",
      "  [  1   1   1]\n",
      "  [  1   1   1]]\n",
      "\n",
      " ...\n",
      "\n",
      " [[255 255 255]\n",
      "  [255 255 255]\n",
      "  [254 254 254]\n",
      "  ...\n",
      "  [  5   5   5]\n",
      "  [  6   6   6]\n",
      "  [  7   7   7]]\n",
      "\n",
      " [[255 255 255]\n",
      "  [253 253 253]\n",
      "  [253 253 253]\n",
      "  ...\n",
      "  [  4   4   4]\n",
      "  [  5   5   5]\n",
      "  [  6   6   6]]\n",
      "\n",
      " [[254 254 254]\n",
      "  [255 255 255]\n",
      "  [254 254 254]\n",
      "  ...\n",
      "  [  5   5   5]\n",
      "  [  5   5   5]\n",
      "  [  5   5   5]]]\n",
      "(2121, 3359)\n"
     ]
    }
   ],
   "source": [
    "import cv2\n",
    "mypath = \"C:\\\\users\\\\sigma_db.tif\"\n",
    "img = cv2.imread(mypath,1)\n",
    "print(img)\n",
    "def wind(img):\n",
    "    cv2.imshow('Sigma', img)\n",
    "    cv2.waitKey(0)\n",
    "    cv2.destroyAllWindows()\n",
    "height, width = img.shape[0:2]\n",
    "img.shape[0:2]\n",
    "print(img.shape[0:2])\n",
    "startRow = int(height*.10)\n",
    "startCol = int(width*.10)\n",
    "endRow = int(height*.99)\n",
    "endCol = int(width*.90)\n",
    "croppedImage = img[startRow:endRow, startCol:endCol]\n",
    "cv2.imshow('Original Image', img)\n",
    "cv2.imshow('Cropped Image', croppedImage)\n",
    "cv2.waitKey(0)\n",
    "newImg = cv2.resize(img, (0,2), fx=0.60, fy=0.65)\n",
    "cv2.imshow('Resized Image', newImg)\n",
    "cv2.waitKey(0)\n",
    "edge_img = cv2.Canny(img,100,200) \n",
    "wind(edge_img)\n"
   ]
  },
  {
   "cell_type": "code",
   "execution_count": 8,
   "id": "a71155ed-a181-41b3-96f2-127f92553c82",
   "metadata": {},
   "outputs": [
    {
     "name": "stdout",
     "output_type": "stream",
     "text": [
      "[[[ 44  44  44]\n",
      "  [ 46  46  46]\n",
      "  [ 50  50  50]\n",
      "  ...\n",
      "  [ 18  18  18]\n",
      "  [ 17  17  17]\n",
      "  [ 17  17  17]]\n",
      "\n",
      " [[ 44  44  44]\n",
      "  [ 51  51  51]\n",
      "  [ 55  55  55]\n",
      "  ...\n",
      "  [ 18  18  18]\n",
      "  [ 15  15  15]\n",
      "  [ 20  20  20]]\n",
      "\n",
      " [[ 48  48  48]\n",
      "  [ 50  50  50]\n",
      "  [ 49  49  49]\n",
      "  ...\n",
      "  [ 20  20  20]\n",
      "  [ 14  14  14]\n",
      "  [ 18  18  18]]\n",
      "\n",
      " ...\n",
      "\n",
      " [[251 251 251]\n",
      "  [255 255 255]\n",
      "  [255 255 255]\n",
      "  ...\n",
      "  [ 42  42  42]\n",
      "  [ 46  46  46]\n",
      "  [ 47  47  47]]\n",
      "\n",
      " [[254 254 254]\n",
      "  [255 255 255]\n",
      "  [255 255 255]\n",
      "  ...\n",
      "  [ 45  45  45]\n",
      "  [ 45  45  45]\n",
      "  [ 46  46  46]]\n",
      "\n",
      " [[254 254 254]\n",
      "  [255 255 255]\n",
      "  [255 255 255]\n",
      "  ...\n",
      "  [ 51  51  51]\n",
      "  [ 55  55  55]\n",
      "  [ 52  52  52]]]\n",
      "uint8\n",
      "<class 'numpy.ndarray'>\n"
     ]
    }
   ],
   "source": [
    "import numpy as np\n",
    "import cv2\n",
    "mypath =\"C:\\\\users\\\\sigma_db.tif\"\n",
    "img = cv2.imread(mypath,1)\n",
    "print(img)\n",
    "p=cv2.imread(mypath, cv2.IMREAD_COLOR).dtype\n",
    "print(p)\n",
    "print(type(img))"
   ]
  },
  {
   "cell_type": "code",
   "execution_count": 19,
   "id": "21753c8d-e478-4f2e-b934-7efcb675a800",
   "metadata": {},
   "outputs": [
    {
     "name": "stdout",
     "output_type": "stream",
     "text": [
      "[0.00392157 0.00392157 0.00392157]\n"
     ]
    }
   ],
   "source": [
    "import cv2\n",
    "import numpy as np\n",
    "from skimage.util import img_as_float\n",
    "mypath=\"C:\\\\users\\\\Sigma0_HH.tif\"\n",
    "image = cv2.imread(mypath,1)\n",
    "imag = img_as_float(image)\n",
    "#print(imag)\n",
    "p=cv2.imread(mypath, cv2.IMREAD_COLOR).dtype\n",
    "#print(p)\n",
    "print(imag[20, 102])\n",
    "#print(type(img))"
   ]
  },
  {
   "cell_type": "code",
   "execution_count": null,
   "id": "6fdedbae-65a2-4947-9159-7744560f991e",
   "metadata": {},
   "outputs": [],
   "source": []
  },
  {
   "cell_type": "code",
   "execution_count": 2,
   "id": "99a7baae-4f64-431e-b5ff-d8eb133cf2d9",
   "metadata": {
    "collapsed": true
   },
   "outputs": [
    {
     "name": "stdout",
     "output_type": "stream",
     "text": [
      "None\n"
     ]
    },
    {
     "ename": "AttributeError",
     "evalue": "'NoneType' object has no attribute 'flatten'",
     "output_type": "error",
     "traceback": [
      "\u001b[1;31m---------------------------------------------------------------------------\u001b[0m",
      "\u001b[1;31mAttributeError\u001b[0m                            Traceback (most recent call last)",
      "\u001b[1;32m<ipython-input-2-d8d11531a3e6>\u001b[0m in \u001b[0;36m<module>\u001b[1;34m\u001b[0m\n\u001b[0;32m      8\u001b[0m \u001b[0mxaxis\u001b[0m\u001b[1;33m=\u001b[0m\u001b[0mnp\u001b[0m\u001b[1;33m.\u001b[0m\u001b[0marange\u001b[0m\u001b[1;33m(\u001b[0m\u001b[1;36m256\u001b[0m\u001b[1;33m)\u001b[0m\u001b[1;33m.\u001b[0m\u001b[0mreshape\u001b[0m\u001b[1;33m(\u001b[0m\u001b[1;36m256\u001b[0m\u001b[1;33m,\u001b[0m\u001b[1;36m1\u001b[0m\u001b[1;33m)\u001b[0m\u001b[1;33m\u001b[0m\u001b[1;33m\u001b[0m\u001b[0m\n\u001b[0;32m      9\u001b[0m \u001b[0mhistogram\u001b[0m\u001b[1;33m=\u001b[0m\u001b[0mnp\u001b[0m\u001b[1;33m.\u001b[0m\u001b[0mhstack\u001b[0m\u001b[1;33m(\u001b[0m\u001b[1;33m(\u001b[0m\u001b[0mxaxis\u001b[0m\u001b[1;33m,\u001b[0m\u001b[0mhist\u001b[0m\u001b[1;33m)\u001b[0m\u001b[1;33m)\u001b[0m\u001b[1;33m.\u001b[0m\u001b[0mastype\u001b[0m\u001b[1;33m(\u001b[0m\u001b[0mint\u001b[0m\u001b[1;33m)\u001b[0m\u001b[1;33m\u001b[0m\u001b[1;33m\u001b[0m\u001b[0m\n\u001b[1;32m---> 10\u001b[1;33m \u001b[0mplt\u001b[0m\u001b[1;33m.\u001b[0m\u001b[0mhist\u001b[0m\u001b[1;33m(\u001b[0m\u001b[0mlena\u001b[0m\u001b[1;33m.\u001b[0m\u001b[0mflatten\u001b[0m\u001b[1;33m(\u001b[0m\u001b[1;33m)\u001b[0m\u001b[1;33m,\u001b[0m\u001b[1;36m256\u001b[0m\u001b[1;33m,\u001b[0m\u001b[1;33m[\u001b[0m\u001b[1;36m0\u001b[0m\u001b[1;33m,\u001b[0m\u001b[1;36m256\u001b[0m\u001b[1;33m]\u001b[0m\u001b[1;33m)\u001b[0m\u001b[1;33m\u001b[0m\u001b[1;33m\u001b[0m\u001b[0m\n\u001b[0m\u001b[0;32m     11\u001b[0m \u001b[0mplt\u001b[0m\u001b[1;33m.\u001b[0m\u001b[0mshow\u001b[0m\u001b[1;33m\u001b[0m\u001b[1;33m\u001b[0m\u001b[0m\n",
      "\u001b[1;31mAttributeError\u001b[0m: 'NoneType' object has no attribute 'flatten'"
     ]
    }
   ],
   "source": [
    "import numpy as np\n",
    "import cv2\n",
    "from matplotlib import pyplot as plt\n",
    "mypath = \"C:\\\\Users\\\\TC_Spk_Sigma0_HH.tif\"\n",
    "lena=cv2.imread(mypath,0)\n",
    "print(lena)\n",
    "hist=cv2.calcHist([lena],[0],None,[256],[0,256])                  #histogram of image\n",
    "xaxis=np.arange(256).reshape(256,1)                                              \n",
    "histogram=np.hstack((xaxis,hist)).astype(int)\n",
    "plt.hist(lena.flatten(),256,[0,256])\n",
    "plt.show"
   ]
  },
  {
   "cell_type": "code",
   "execution_count": 21,
   "id": "c710c444-b48a-4696-a577-23cce61a753d",
   "metadata": {},
   "outputs": [
    {
     "data": {
      "text/plain": [
       "2571284667.2392187"
      ]
     },
     "execution_count": 21,
     "metadata": {},
     "output_type": "execute_result"
    }
   ],
   "source": [
    "import numpy as np\n",
    "import cv2\n",
    "from matplotlib import pyplot as plt\n",
    "mypath = \"C:\\\\Users\\\\sigma_db.tif\"\n",
    "img=cv2.imread(mypath,0)\n",
    "imgCL=np.float32(img.reshape((-1,3)))\n",
    "cr=(cv2.TERM_CRITERIA_EPS+cv2.TERM_CRITERIA_MAX_ITER,15,1.0)\n",
    "k=4\n",
    "ret,lab,center=cv2.kmeans(imgCL,k,None,cr,10,cv2.KMEANS_RANDOM_CENTERS)\n",
    "ret"
   ]
  },
  {
   "cell_type": "code",
   "execution_count": 23,
   "id": "5157d287",
   "metadata": {},
   "outputs": [
    {
     "data": {
      "text/plain": [
       "array([[2],\n",
       "       [2],\n",
       "       [2],\n",
       "       ...,\n",
       "       [2],\n",
       "       [2],\n",
       "       [2]], dtype=int32)"
      ]
     },
     "execution_count": 23,
     "metadata": {},
     "output_type": "execute_result"
    }
   ],
   "source": [
    "lab"
   ]
  },
  {
   "cell_type": "code",
   "execution_count": null,
   "id": "3aadafd7",
   "metadata": {},
   "outputs": [],
   "source": []
  }
 ],
 "metadata": {
  "kernelspec": {
   "display_name": "Python 3",
   "language": "python",
   "name": "python3"
  },
  "language_info": {
   "codemirror_mode": {
    "name": "ipython",
    "version": 3
   },
   "file_extension": ".py",
   "mimetype": "text/x-python",
   "name": "python",
   "nbconvert_exporter": "python",
   "pygments_lexer": "ipython3",
   "version": "3.8.5"
  }
 },
 "nbformat": 4,
 "nbformat_minor": 5
}
