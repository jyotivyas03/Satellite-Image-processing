{
 "cells": [
  {
   "cell_type": "code",
   "execution_count": 3,
   "id": "5074f906-93a2-4738-86aa-ebf17f2fcfea",
   "metadata": {},
   "outputs": [
    {
     "name": "stdout",
     "output_type": "stream",
     "text": [
      "[[[  1   1   1]\n",
      "  [  1   1   1]\n",
      "  [  1   1   1]\n",
      "  ...\n",
      "  [  1   1   1]\n",
      "  [  1   1   1]\n",
      "  [  1   1   1]]\n",
      "\n",
      " [[  1   1   1]\n",
      "  [  1   1   1]\n",
      "  [  1   1   1]\n",
      "  ...\n",
      "  [  1   1   1]\n",
      "  [  1   1   1]\n",
      "  [  1   1   1]]\n",
      "\n",
      " [[  1   1   1]\n",
      "  [  1   1   1]\n",
      "  [  1   1   1]\n",
      "  ...\n",
      "  [  1   1   1]\n",
      "  [  1   1   1]\n",
      "  [  1   1   1]]\n",
      "\n",
      " ...\n",
      "\n",
      " [[255 255 255]\n",
      "  [255 255 255]\n",
      "  [254 254 254]\n",
      "  ...\n",
      "  [  5   5   5]\n",
      "  [  6   6   6]\n",
      "  [  7   7   7]]\n",
      "\n",
      " [[255 255 255]\n",
      "  [253 253 253]\n",
      "  [253 253 253]\n",
      "  ...\n",
      "  [  4   4   4]\n",
      "  [  5   5   5]\n",
      "  [  6   6   6]]\n",
      "\n",
      " [[254 254 254]\n",
      "  [255 255 255]\n",
      "  [254 254 254]\n",
      "  ...\n",
      "  [  5   5   5]\n",
      "  [  5   5   5]\n",
      "  [  5   5   5]]]\n",
      "(2121, 3359)\n"
     ]
    }
   ],
   "source": [
    "import cv2\n",
    "mypath = \"C:\\\\users\\\\sigma_db.tif\"\n",
    "img = cv2.imread(mypath,1)\n",
    "print(img)\n",
    "def wind(img):\n",
    "    cv2.imshow('cat', img)\n",
    "    cv2.waitKey(0)\n",
    "    cv2.destroyAllWindows()\n",
    "height, width = img.shape[0:2]\n",
    "img.shape[0:2]\n",
    "print(img.shape[0:2])\n",
    "startRow = int(height*.10)\n",
    "startCol = int(width*.10)\n",
    "endRow = int(height*.99)\n",
    "endCol = int(width*.90)\n",
    "croppedImage = img[startRow:endRow, startCol:endCol]\n",
    "cv2.imshow('Original Image', img)\n",
    "cv2.imshow('Cropped Image', croppedImage)\n",
    "cv2.waitKey(0)\n",
    "newImg = cv2.resize(img, (0,2), fx=0.60, fy=0.65)\n",
    "cv2.imshow('Resized Image', newImg)\n",
    "cv2.waitKey(0)\n",
    "edge_img = cv2.Canny(img,100,200) \n",
    "wind(edge_img)\n"
   ]
  },
  {
   "cell_type": "code",
   "execution_count": 8,
   "id": "a71155ed-a181-41b3-96f2-127f92553c82",
   "metadata": {},
   "outputs": [
    {
     "name": "stdout",
     "output_type": "stream",
     "text": [
      "[[[ 44  44  44]\n",
      "  [ 46  46  46]\n",
      "  [ 50  50  50]\n",
      "  ...\n",
      "  [ 18  18  18]\n",
      "  [ 17  17  17]\n",
      "  [ 17  17  17]]\n",
      "\n",
      " [[ 44  44  44]\n",
      "  [ 51  51  51]\n",
      "  [ 55  55  55]\n",
      "  ...\n",
      "  [ 18  18  18]\n",
      "  [ 15  15  15]\n",
      "  [ 20  20  20]]\n",
      "\n",
      " [[ 48  48  48]\n",
      "  [ 50  50  50]\n",
      "  [ 49  49  49]\n",
      "  ...\n",
      "  [ 20  20  20]\n",
      "  [ 14  14  14]\n",
      "  [ 18  18  18]]\n",
      "\n",
      " ...\n",
      "\n",
      " [[251 251 251]\n",
      "  [255 255 255]\n",
      "  [255 255 255]\n",
      "  ...\n",
      "  [ 42  42  42]\n",
      "  [ 46  46  46]\n",
      "  [ 47  47  47]]\n",
      "\n",
      " [[254 254 254]\n",
      "  [255 255 255]\n",
      "  [255 255 255]\n",
      "  ...\n",
      "  [ 45  45  45]\n",
      "  [ 45  45  45]\n",
      "  [ 46  46  46]]\n",
      "\n",
      " [[254 254 254]\n",
      "  [255 255 255]\n",
      "  [255 255 255]\n",
      "  ...\n",
      "  [ 51  51  51]\n",
      "  [ 55  55  55]\n",
      "  [ 52  52  52]]]\n",
      "uint8\n",
      "<class 'numpy.ndarray'>\n"
     ]
    }
   ],
   "source": [
    "import numpy as np\n",
    "import cv2\n",
    "mypath =\"C:\\\\users\\\\sigma_db.tif\"\n",
    "img = cv2.imread(mypath,1)\n",
    "print(img)\n",
    "#def wind(img):\n",
    "    #cv2.namedWindow(\"output\", cv2.WINDOW_NORMAL)        # Create window with freedom of dimensions\n",
    "    #im = cv2.imread(mypath,1)                        # Read image\n",
    "    #imS = cv2.resize(im, (960, 540))                    # Resize image\n",
    "    #cv2.imshow(\"output\", imS)                            # Show image\n",
    "    #cv2.waitKey(0)      \n",
    "#edges = cv2.Canny(img,100,200)\n",
    "#wind(edges)\n",
    "p=cv2.imread(mypath, cv2.IMREAD_COLOR).dtype\n",
    "print(p)\n",
    "print(type(img))"
   ]
  },
  {
   "cell_type": "code",
   "execution_count": 11,
   "id": "21753c8d-e478-4f2e-b934-7efcb675a800",
   "metadata": {},
   "outputs": [
    {
     "name": "stdout",
     "output_type": "stream",
     "text": [
      "[[  1   1   1 ...   1   1   1]\n",
      " [  1   1   1 ...   1   1   1]\n",
      " [  1   1   1 ...   1   1   1]\n",
      " ...\n",
      " [255 255 255 ...   6   7   7]\n",
      " [255 255 255 ...   4   6   6]\n",
      " [255 255 255 ...   5   5   6]]\n",
      "uint8\n",
      "<class 'numpy.ndarray'>\n"
     ]
    }
   ],
   "source": [
    "import cv2\n",
    "import numpy as np\n",
    "from skimage.util import img_as_float\n",
    "mypath=\"C:\\\\users\\\\Spk_Sigma0_HH.tif\"\n",
    "img = cv2.imread(mypath,0)\n",
    "image = img_as_float(img)\n",
    "print(img)\n",
    "p=cv2.imread(mypath, cv2.IMREAD_COLOR).dtype\n",
    "print(p)\n",
    "print(type(img))"
   ]
  },
  {
   "cell_type": "code",
   "execution_count": 16,
   "id": "99a7baae-4f64-431e-b5ff-d8eb133cf2d9",
   "metadata": {},
   "outputs": [
    {
     "name": "stdout",
     "output_type": "stream",
     "text": [
      "[[0.00392157 0.00392157 0.00392157 ... 0.00392157 0.00392157 0.00392157]\n",
      " [0.00392157 0.00392157 0.00392157 ... 0.00392157 0.00392157 0.00392157]\n",
      " [0.00392157 0.00392157 0.00392157 ... 0.00392157 0.00392157 0.00392157]\n",
      " ...\n",
      " [1.         1.         1.         ... 0.02352941 0.02745098 0.02745098]\n",
      " [1.         1.         1.         ... 0.01568627 0.02352941 0.02352941]\n",
      " [1.         1.         1.         ... 0.01960784 0.01960784 0.02352941]]\n"
     ]
    },
    {
     "data": {
      "text/plain": [
       "<function matplotlib.pyplot.show(close=None, block=None)>"
      ]
     },
     "execution_count": 16,
     "metadata": {},
     "output_type": "execute_result"
    },
    {
     "data": {
      "image/png": "[encoded data removed]",
      "text/plain": [
       "<Figure size 432x288 with 1 Axes>"
      ]
     },
     "metadata": {
      "needs_background": "light"
     },
     "output_type": "display_data"
    }
   ],
   "source": [
    "import numpy as np\n",
    "import cv2\n",
    "from matplotlib import pyplot as plt\n",
    "from skimage.util import img_as_float\n",
    "mypath = \"C:\\\\Users\\\\Spk_Sigma0_HH.tif\"\n",
    "lena=cv2.imread(mypath,0)\n",
    "image = img_as_float(lena)\n",
    "print(image)\n",
    "hist=cv2.calcHist([lena],[0],None,[256],[0,256])                  #histogram of image\n",
    "xaxis=np.arange(256).reshape(256,1)                                              \n",
    "histogram=np.hstack((xaxis,hist)).astype(int)\n",
    "plt.hist(lena.flatten(),256,[0,256])\n",
    "plt.show"
   ]
  },
  {
   "cell_type": "code",
   "execution_count": 21,
   "id": "c710c444-b48a-4696-a577-23cce61a753d",
   "metadata": {},
   "outputs": [
    {
     "data": {
      "text/plain": [
       "2571284667.2392187"
      ]
     },
     "execution_count": 21,
     "metadata": {},
     "output_type": "execute_result"
    }
   ],
   "source": [
    "import numpy as np\n",
    "import cv2\n",
    "from matplotlib import pyplot as plt\n",
    "mypath = \"C:\\\\Users\\\\sigma_db.tif\"\n",
    "img=cv2.imread(mypath,0)\n",
    "imgCL=np.float32(img.reshape((-1,3)))\n",
    "cr=(cv2.TERM_CRITERIA_EPS+cv2.TERM_CRITERIA_MAX_ITER,15,1.0)\n",
    "k=4\n",
    "ret,lab,center=cv2.kmeans(imgCL,k,None,cr,10,cv2.KMEANS_RANDOM_CENTERS)\n",
    "ret"
   ]
  },
  {
   "cell_type": "code",
   "execution_count": 23,
   "id": "5157d287",
   "metadata": {},
   "outputs": [
    {
     "data": {
      "text/plain": [
       "array([[2],\n",
       "       [2],\n",
       "       [2],\n",
       "       ...,\n",
       "       [2],\n",
       "       [2],\n",
       "       [2]], dtype=int32)"
      ]
     },
     "execution_count": 23,
     "metadata": {},
     "output_type": "execute_result"
    }
   ],
   "source": [
    "lab"
   ]
  },
  {
   "cell_type": "code",
   "execution_count": null,
   "id": "3aadafd7",
   "metadata": {},
   "outputs": [],
   "source": []
  }
 ],
 "metadata": {
  "kernelspec": {
   "display_name": "Python 3",
   "language": "python",
   "name": "python3"
  },
  "language_info": {
   "codemirror_mode": {
    "name": "ipython",
    "version": 3
   },
   "file_extension": ".py",
   "mimetype": "text/x-python",
   "name": "python",
   "nbconvert_exporter": "python",
   "pygments_lexer": "ipython3",
   "version": "3.8.8"
  }
 },
 "nbformat": 4,
 "nbformat_minor": 5
}
